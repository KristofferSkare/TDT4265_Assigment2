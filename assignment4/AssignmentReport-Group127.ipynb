{
 "cells": [
  {
   "cell_type": "markdown",
   "metadata": {},
   "source": [
    "# Assignment 4 Report"
   ]
  },
  {
   "cell_type": "markdown",
   "metadata": {},
   "source": [
    "This is an outline for your report to ease the amount of work required to create your report. Jupyter notebook supports markdown, and I recommend you to check out this [cheat sheet](https://github.com/adam-p/markdown-here/wiki/Markdown-Cheatsheet). If you are not familiar with markdown.\n",
    "\n",
    "Before delivery, **remember to convert this file to PDF**. You can do it in two ways:\n",
    "1. Print the webpage (ctrl+P or cmd+P)\n",
    "2. Export with latex. This is somewhat more difficult, but you'll get somehwat of a \"prettier\" PDF. Go to File -> Download as -> PDF via LaTeX. You might have to install nbconvert and pandoc through conda; `conda install nbconvert pandoc`."
   ]
  },
  {
   "cell_type": "markdown",
   "metadata": {},
   "source": [
    "# Task 1"
   ]
  },
  {
   "cell_type": "markdown",
   "metadata": {},
   "source": [
    "## task 1a)\n",
    "\n",
    "![](IoU_drawing.png)\n",
    "\n",
    "The drawing illustrates the intersection and union of two bounding boxes. The \"Intersection over Union\" (IoU) is the ratio of these two areas:\n",
    "\n",
    "$$\n",
    "\\text{IoU} = \\frac{\\text{Intersection}}{\\text{Union}} \n",
    "$$\n",
    "\n",
    "If we first find the intersection by comparing the two boxes x and y coordinates. The union can be found by summing up the two areas of the two bounding boxes and subtracting the intersection. \n",
    "\n",
    "The intersection in x can be found by summing up the width of the two rectangles and subtracting the largest distance between two x coordinates: \n",
    "$$\n",
    "\\text{Intersection}_x = \\Delta x_{gt} + \\Delta x_{pred} - (x_{max} - x_{min})\n",
    "$$\n",
    "\n",
    "where $x_{max}$ and $x_{min}$ are the maximum and minimum of all the x coordinates. \n",
    "\n",
    "Similarly the intersection in y can be found using the same formula with the y coordinates. \n",
    "\n",
    "Multiplying the intersection in x and y gives the intersectional area. \n",
    "\n",
    "$$\n",
    "\\text{Intersection} = (\\Delta x_{gt} + \\Delta x_{pred} - (x_{max} - x_{min}))(\\Delta y_{gt} + \\Delta y_{pred} - (y_{max} - y_{min}))\n",
    "$$\n",
    "\n",
    "If either the x or y intersection is negative then the Intersection is 0."
   ]
  },
  {
   "cell_type": "markdown",
   "metadata": {},
   "source": [
    "## task 1b)\n",
    "\n",
    "Precision: $\\frac {TP} {TP+FP}$\n",
    "\n",
    "Recall: $\\frac {TP} {TP+FN}$\n",
    "\n",
    "True positive (TP) is when a predicted positive is also a ground truth positive, whereas a false positive is a predicted true which did not correspond with the ground truth.\n",
    "\n",
    "## task 1c)\n",
    "\n",
    "Fill in task 1a image of hand-written notes which are easy to read, or latex equations here\n",
    "\n",
    "Smoothened:\n",
    "\n",
    "$mAP_{1,s} = 1 \\cdot 0.4 + 0.5 \\cdot 0.3 + 0.2 \\cdot 0.3 = 0.61$ \n",
    "\n",
    "$mAP_{2,s} = 1 \\cdot 0.3 + 0.8 \\cdot 0.1 + 0.6 \\cdot 0.1 + 0.5 \\cdot 0.2 + 0.2 \\cdot 0.3 = 0.6$ \n",
    "\n",
    "$mAP_s = \\frac {0.61 + 0.6}{2} = 0.606$\n",
    "\n",
    "Not smoothened:\n",
    "\n",
    "$mAP_1 = mAP_{1,s} + 0.5 \\cdot (0.3 \\cdot 0.5 + 0.3 \\cdot 0.3) = 0.73$\n",
    "\n",
    "$mAP_2 = mAP{2,s} + 0.5 \\cdot (0.1 \\cdot 0.2 + 0.1 \\cdot 0.2 +0.1 \\cdot 0.2 + 0.3 \\cdot 0.3) = 0.675$\n",
    "\n",
    "$mAP = \\frac {0.73 + 0.675} {2} = 0.7025$"
   ]
  },
  {
   "cell_type": "markdown",
   "metadata": {},
   "source": [
    "# Task 2\n",
    "\n",
    "### Task 2f)\n",
    "![](./task2/precision_recall_curve.png)"
   ]
  },
  {
   "cell_type": "markdown",
   "metadata": {},
   "source": [
    "# Task 3"
   ]
  },
  {
   "cell_type": "markdown",
   "metadata": {},
   "source": [
    "### Task 3a)\n",
    "Fill in task 1a image of hand-written notes which are easy to read, or latex equations here\n",
    "\n",
    "### Task 3b)\n",
    "Fill in task 1a image of hand-written notes which are easy to read, or latex equations here\n",
    "\n",
    "### Task 3c)\n",
    "Fill in task 1a image of hand-written notes which are easy to read, or latex equations here\n",
    "\n",
    "\n",
    "### Task 3d)\n",
    "Fill in task 1a image of hand-written notes which are easy to read, or latex equations here\n",
    "\n",
    "### Task 3e)\n",
    "Fill in task 1a image of hand-written notes which are easy to read, or latex equations here\n",
    "\n",
    "### Task 3f)\n",
    "Fill in task 1a image of hand-written notes which are easy to read, or latex equations here\n"
   ]
  },
  {
   "cell_type": "markdown",
   "metadata": {},
   "source": [
    "# Task 4"
   ]
  },
  {
   "cell_type": "markdown",
   "metadata": {},
   "source": [
    "## Task 4b)\n",
    "\n",
    "FILL IN ANSWER. \n",
    "\n",
    "## Task 4c)\n",
    "FILL IN ANSWER. \n",
    "\n",
    "\n",
    "## Task 4d)\n",
    "FILL IN ANSWER. \n",
    "\n",
    "\n",
    "## Task 4e)\n",
    "FILL IN ANSWER. \n",
    "\n",
    "\n",
    "## Task 4f)\n",
    "FILL IN ANSWER. "
   ]
  }
 ],
 "metadata": {
  "kernelspec": {
   "display_name": "Python 3.8.1 64-bit ('py38': conda)",
   "language": "python",
   "name": "python38164bitpy38condac1f68ca5407a4349b0d7e37676f2fbb3"
  },
  "language_info": {
   "codemirror_mode": {
    "name": "ipython",
    "version": 3
   },
   "file_extension": ".py",
   "mimetype": "text/x-python",
   "name": "python",
   "nbconvert_exporter": "python",
   "pygments_lexer": "ipython3",
   "version": "3.8.1"
  }
 },
 "nbformat": 4,
 "nbformat_minor": 4
}
