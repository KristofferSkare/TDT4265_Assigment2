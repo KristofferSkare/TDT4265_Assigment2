{
 "cells": [
  {
   "cell_type": "code",
   "execution_count": 1,
   "metadata": {},
   "outputs": [],
   "source": [
    "import sys, os\n",
    "sys.path.append(os.path.dirname(os.getcwd())) # Include ../SSD in path\n",
    "import tops\n",
    "import matplotlib.pyplot as plt\n",
    "import pathlib\n",
    "from ssd.utils import load_config"
   ]
  },
  {
   "cell_type": "code",
   "execution_count": 2,
   "metadata": {},
   "outputs": [
    {
     "name": "stdout",
     "output_type": "stream",
     "text": [
      "NOTE! Installing ujson may make loading annotations faster.\n",
      "It looks like you are currently working on the server, with a 'working directory' in: /work/snotra/cutran\n",
      "\tIf you struggle with NTNU home directory becoming full, we recommend you to change the output directory to: /work/snotra/cutran\n",
      "\t /work/snotra/cutran does not sync with NTNU HOME, and is a directory only located on the server.\n",
      "\t To change the output directory of SSD, set save_in_work to True in the file configs/utils.py, in the function get_output_dir.\n",
      "Saving SSD outputs to: outputs/\n",
      "Found dataset directory in: /work/datasets/mnist_object_detection/train\n",
      "Found dataset directory in: /work/datasets/mnist_object_detection/val\n"
     ]
    }
   ],
   "source": [
    "cfg = load_config(\"../configs/ssd300.py\")\n",
    "logs = tops.logger.read_logs(pathlib.Path(\"../outputs/ssd300\"))"
   ]
  },
  {
   "cell_type": "code",
   "execution_count": 3,
   "metadata": {},
   "outputs": [
    {
     "name": "stdout",
     "output_type": "stream",
     "text": [
      "[{'amp/grad_scale': 32768.0, 'global_step': 0}, {'loss/regression_loss': 7.914135456085205, 'loss/classification_loss': 30.373910903930664, 'loss/total_loss': 38.288047790527344, 'global_step': 0}, {'amp/grad_scale': 16384.0, 'global_step': 1}, {'stats/learning_rate': 7.635000000000001e-05, 'global_step': 2}, {'stats/learning_rate': 7.770000000000002e-05, 'global_step': 3}, {'stats/learning_rate': 7.905000000000002e-05, 'global_step': 4}, {'stats/learning_rate': 8.040000000000003e-05, 'global_step': 5}, {'stats/learning_rate': 8.175000000000004e-05, 'global_step': 6}, {'stats/learning_rate': 8.310000000000003e-05, 'global_step': 7}, {'stats/learning_rate': 8.445000000000003e-05, 'global_step': 8}]\n"
     ]
    }
   ],
   "source": [
    "# The log is formatted as a list of dictionaries\n",
    "print(logs[:10])"
   ]
  },
  {
   "cell_type": "code",
   "execution_count": 4,
   "metadata": {},
   "outputs": [],
   "source": [
    "# We are saving logs to disk every 10th iteration, thus we need to filter out all entries without a loss\n",
    "loss_entries = [entry for entry in logs if \"loss/regression_loss\" in entry]"
   ]
  },
  {
   "cell_type": "code",
   "execution_count": 5,
   "metadata": {},
   "outputs": [
    {
     "data": {
      "image/png": "[encoded data removed]",
      "text/plain": [
       "<Figure size 432x288 with 1 Axes>"
      ]
     },
     "metadata": {
      "needs_background": "light"
     },
     "output_type": "display_data"
    }
   ],
   "source": [
    "plt.plot([entry[\"global_step\"] for entry in loss_entries], [entry[\"loss/regression_loss\"] for entry in loss_entries])\n",
    "plt.ylabel(\"Regression loss\")\n",
    "plt.xlabel(\"Global step (number of batches trained on)\")\n",
    "plt.savefig(\"total_loss_SSDtrained.png\")"
   ]
  },
  {
   "cell_type": "code",
   "execution_count": null,
   "metadata": {},
   "outputs": [],
   "source": [
    "logs"
   ]
  }
 ],
 "metadata": {
  "kernelspec": {
   "display_name": "Python 3 (ipykernel)",
   "language": "python",
   "name": "python3"
  },
  "language_info": {
   "codemirror_mode": {
    "name": "ipython",
    "version": 3
   },
   "file_extension": ".py",
   "mimetype": "text/x-python",
   "name": "python",
   "nbconvert_exporter": "python",
   "pygments_lexer": "ipython3",
   "version": "3.8.12"
  }
 },
 "nbformat": 4,
 "nbformat_minor": 4
}
