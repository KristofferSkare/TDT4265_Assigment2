{
 "cells": [
  {
   "cell_type": "markdown",
   "metadata": {},
   "source": [
    "# Assignment 2 Report"
   ]
  },
  {
   "cell_type": "markdown",
   "metadata": {},
   "source": [
    "This is an outline for your report to ease the amount of work required to create your report. Jupyter notebook supports markdown, and I recommend you to check out this [cheat sheet](https://github.com/adam-p/markdown-here/wiki/Markdown-Cheatsheet). If you are not familiar with markdown.\n",
    "\n",
    "Before delivery, **remember to convert this file to PDF**. You can do it in two ways:\n",
    "1. Print the webpage (ctrl+P or cmd+P)\n",
    "2. Export with latex. This is somewhat more difficult, but you'll get somehwat of a \"prettier\" PDF. Go to File -> Download as -> PDF via LaTeX. You might have to install nbconvert and pandoc through conda; `conda install nbconvert pandoc`."
   ]
  },
  {
   "cell_type": "markdown",
   "metadata": {},
   "source": [
    "# Task 1"
   ]
  },
  {
   "cell_type": "markdown",
   "metadata": {},
   "source": [
    "## task 1a)\n",
    "\n",
    "$$\n",
    "w_{ji} = w_{ji} - \\alpha \\frac {\\partial C} {\\partial w_{ji}} =  w_{ji} - \\alpha \\frac {\\partial C} {\\partial z_j} \\cdot \\frac {\\partial z_j } {\\partial w_{ji}} =  w_{ji} - \\alpha \\delta_j x_i \n",
    "$$\n",
    "$$\n",
    "\\delta_k^i = \\frac{\\partial C} {\\partial z_k^i} = \\sum_k \\frac {\\partial C}{\\partial z_k^{i+1}} \\cdot \\frac{\\partial z_k^{i+1}}{\\partial z_j^i} = \\sum_k \\delta_k^{i+1} \\cdot f'(z_j^i) \\cdot w_{kj}^i = f'(z_j^i) \\cdot \\sum_k \\delta_k^{i+1} \\cdot  w_{kj}^i\n",
    "$$"
   ]
  },
  {
   "cell_type": "markdown",
   "metadata": {},
   "source": [
    "## task 1a)\n",
    "Defining:\n",
    "\n",
    "I: number of input nodes\n",
    "J: number of nodes in hidden layer\n",
    "K: number of output nodes\n",
    "\n",
    "$W_1 = [w_ji]$ (shape: $J \\times I$)\n",
    "\n",
    "$W_2 = [w_kj]$ (shape: $K \\times J$)\n",
    "\n",
    "$\\mathbb{x}$: input (shape: $I \\times 1$)\n",
    "\n",
    "$\\mathbb{z_1} = W_1\\cdot \\mathbb{x}$ (shape: $J \\times 1$)\n",
    "\n",
    "$\\mathbb{a_1} = f(\\mathbb{z_1})$ (shape: $J \\times 1$)\n",
    "\n",
    "$\\mathbb{z_2} = W_2 \\cdot \\mathbb{a_1}$ (shape: $K \\times 1$)\n",
    "\n",
    "$\\mathbb{\\hat y} = f(\\mathbb{z_2})$: output (shape: $K \\times 1$)\n",
    "\n",
    "$\\mathbb{\\delta_1} = [\\delta_j]$ (shape: $J \\times 1$)\n",
    "\n",
    "$\\mathbb{\\delta_2} = [\\delta_k]$ (shape: $K \\times 1$)\n",
    "\n",
    "Update rules:\n",
    "\n",
    "$W_1 := W_1 - \\alpha \\mathbb{\\delta_1}^T \\cdot \\mathbb{x}$ \n",
    "\n",
    "$W_2 := W_2 - \\alpha \\mathbb{\\delta_2}^T \\cdot \\mathbb{a_1}$ \n"
   ]
  },
  {
   "cell_type": "markdown",
   "metadata": {},
   "source": [
    "# Task 2"
   ]
  },
  {
   "cell_type": "markdown",
   "metadata": {},
   "source": [
    "## Task 2c)\n",
    "![](task2c_train_loss.png)"
   ]
  },
  {
   "cell_type": "markdown",
   "metadata": {},
   "source": [
    "## Task 2d)\n",
    "\n",
    "Number of weights and biases: $(28\\cdot 28 + 1)\\cdot 64 + (64 + 1) \\cdot 10 = 50890$\n",
    "\n",
    "In addition there are hyper-parameters like $\\alpha$, $N$ $\\dots$ "
   ]
  },
  {
   "cell_type": "markdown",
   "metadata": {},
   "source": [
    "# Task 3"
   ]
  },
  {
   "cell_type": "markdown",
   "metadata": {},
   "source": [
    "FILL IN ANSWER.\n",
    "Maybe include a loss / accuracy plot here?"
   ]
  },
  {
   "cell_type": "markdown",
   "metadata": {},
   "source": [
    "# Task 4"
   ]
  },
  {
   "cell_type": "markdown",
   "metadata": {},
   "source": [
    "## Task 4a)\n",
    "\n",
    "FILL IN ANSWER. "
   ]
  },
  {
   "cell_type": "markdown",
   "metadata": {},
   "source": [
    "## Task 4b)\n",
    "FILL IN ANSWER\n"
   ]
  },
  {
   "cell_type": "markdown",
   "metadata": {},
   "source": [
    "## Task 4d)\n",
    "N = number of nodes in each hidden layer\n",
    "Num of weights: $(28 \\cdot 28 + 1) * N + (N + 1)\\cdot N + (N + 1) \\cdot 10 = N^2 + 796N + 10$\n",
    "\n",
    "Solving $N^2 + 796N + 10 = 50890 \\implies N \\approx 59.476$. Choosing $N = 60$\n"
   ]
  },
  {
   "cell_type": "markdown",
   "metadata": {},
   "source": [
    "## Task 4e)\n",
    "FILL IN ANSWER"
   ]
  }
 ],
 "metadata": {
  "interpreter": {
   "hash": "a280adf7d83979135d02f79e1d17d51fcc454b9a8f9cfa12ffc7a5d5efd55432"
  },
  "kernelspec": {
   "display_name": "Python 3.8.1 64-bit ('py38': conda)",
   "language": "python",
   "name": "python3"
  },
  "language_info": {
   "codemirror_mode": {
    "name": "ipython",
    "version": 3
   },
   "file_extension": ".py",
   "mimetype": "text/x-python",
   "name": "python",
   "nbconvert_exporter": "python",
   "pygments_lexer": "ipython3",
   "version": "3.9.7"
  }
 },
 "nbformat": 4,
 "nbformat_minor": 4
}
