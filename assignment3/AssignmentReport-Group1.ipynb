{
 "cells": [
  {
   "cell_type": "markdown",
   "metadata": {},
   "source": [
    "### Assignment 3 Report"
   ]
  },
  {
   "cell_type": "markdown",
   "metadata": {},
   "source": [
    "This is an outline for your report to ease the amount of work required to create your report. Jupyter notebook supports markdown, and I recommend you to check out this [cheat sheet](https://github.com/adam-p/markdown-here/wiki/Markdown-Cheatsheet). If you are not familiar with markdown.\n",
    "\n",
    "Before delivery, **remember to convert this file to PDF**. You can do it in two ways:\n",
    "1. Print the webpage (ctrl+P or cmd+P)\n",
    "2. Export with latex. This is somewhat more difficult, but you'll get somehwat of a \"prettier\" PDF. Go to File -> Download as -> PDF via LaTeX. You might have to install nbconvert and pandoc through conda; `conda install nbconvert pandoc`."
   ]
  },
  {
   "cell_type": "markdown",
   "metadata": {},
   "source": [
    "# Task 1"
   ]
  },
  {
   "cell_type": "markdown",
   "metadata": {},
   "source": [
    "## task 1a)\n",
    "\n",
    "Assuming that by convolution the task means the operation that happens in a convolutional layer in forward pass. Also to have the result be 3x5 (same as input image) we zero pad the image with one row/column. \n",
    "\n",
    "![convolution by hand](convolution_by_hand.jpg)\n",
    "\n",
    "Show work on the first column:\n",
    "\n",
    "(0,0): $ 1 \\cdot 0 + 0 \\cdot 2 + 3 \\cdot 0 + 2 \\cdot 1 = 2$\n",
    "\n",
    "(1,0): $ 1 \\cdot 0 + 0 \\cdot 1 + 3 \\cdot 0 + 2 \\cdot 2  + 0 \\cdot 0 + 6 \\cdot 1 = 10$\n",
    "\n",
    "(2,0): $ 3 \\cdot 0 + 2 \\cdot 1 +  0 \\cdot 0 + 6 \\cdot 2 = 14$\n",
    "\n",
    "## task 1b)\n",
    "\n",
    "The convolutional layer reduces sensitivity to translations in the image.   \n",
    "\n",
    "## task 1c)\n",
    "\n",
    "We need 2 rows and columns of zero padding on each side since this will make the center of the kernel be able to be placed at the edge of the image, but no further. This also depends on stride (which is  1 in this case). \n",
    "\n",
    "## task 1d)\n",
    "\n",
    "The kernel is of size ($9\\times 9$) since it reduces the spacial dimension by 8. \n",
    "\n",
    "## task 1e)\n",
    "\n",
    "Pooling with neighborhood of ($2\\times 2$) and stride of 2 will half the width and height. Therefore the dimension of the pooled feature maps ($252 \\times 252$). \n",
    "\n",
    "## task 1f)\n",
    "\n",
    "Convolution with $3 \\times 3$ kernel with stride of 1 and no padding will reduce the dimension by 2. Therefore the resulting spacial dimension is  ($250 \\times 250$).\n",
    "\n",
    "## task 1g)\n",
    "\n",
    "Input to first layer ($32 \\times 32 \\times 3$)\n",
    "There are $32$ nodes that each has $3$ $5\\times 5$ kernels. This gives $32 \\cdot 3 \\cdot 5 \\cdot 5 = 2400$ parameters in the first layer. \n",
    "The max pooling will half the width and height and the convolution will not affect the dimension. \n",
    "\n",
    "Input to second layer ($16 \\times 16 \\times 32$)\n",
    "There are $64$ nodes that each has $32$ $5\\times 5$ kernels. This gives $64 \\cdot 32 \\cdot 5 \\cdot 5 = 51200$ parameters in the second layer. \n",
    "The max pooling will half the width and height and the convolution will not affect the dimension. \n",
    "\n",
    "Input to third layer ($8 \\times 8 \\times 64$)\n",
    "There are $128$ nodes that each has $64$ $5\\times 5$ kernels. This gives $128 \\cdot 64 \\cdot 5 \\cdot 5 = 204800$ parameters in the third layer. \n",
    "The max pooling will half the width and height and the convolution will not affect the dimension.\n",
    "\n",
    "Before flattening the dimension is ($4 \\times 4 \\times 128$). This gives $4 \\cdot 4 \\cdot 128 = 2048$ input nodes in the fully-connected layers. \n",
    "\n",
    "Fully connected number of weights and biases: $(2048 + 1) \\cdot 64 + (64 + 1) \\cdot 10 = 131786$\n",
    "\n",
    "In total: $2400 + 51200 + 204800 + 131786 = 390186$"
   ]
  },
  {
   "cell_type": "markdown",
   "metadata": {},
   "source": [
    "# Task 2\n",
    "\n",
    "### Task 2a)\n",
    "\n",
    "![](task2_plot.png)\n",
    "\n",
    "\n",
    "\n",
    "### Task 2b)\n",
    "Final validation loss: 1.79\n",
    "\n",
    "Final validation accuracy: 0.737\n",
    "\n"
   ]
  },
  {
   "cell_type": "markdown",
   "metadata": {},
   "source": [
    "# Task 3"
   ]
  },
  {
   "cell_type": "markdown",
   "metadata": {},
   "source": [
    "### Task 3a)\n",
    "For the first architecture we tried out batch normalization and a different kernel for the MaxPooling. For the optimizer, we went with Adam and used a learning rate of 7e-4 and weight decay of 2e-5. These numbers were found through searching on the internet and tuned by ourselves. This is how the network architecture looked:\n",
    "| Layer | Layer type          | #Filters      | Kernel details | Activation function |\n",
    "|-------|---------------------|---------------|----------------|---------------------|\n",
    "| 1     | Conv2D              | 32            | F=5, p=2, s=1  | ReLU                |\n",
    "| 1     | MaxPool2D           | -             | F=4,s=2        | -                   |\n",
    "|       | Batch normalization | -             | -              | -                   |\n",
    "| 2     | Conv2D              | 64            | F=5, p=2, s=1  | ReLU                |\n",
    "| 2     | MaxPool2D           | -             | F=3,s=2        | -                   |\n",
    "|       | Batch normalization | -             | -              | -                   |\n",
    "| 3     | Conv2D              | 128           | F=5, p=2, s=1  | ReLU                |\n",
    "| 3     | MaxPool2D           | -             | F=2,s=2        | -                   |\n",
    "|       | Batch normalization | -             | -              | -                   |\n",
    "|       |                     | #Hidden units |                |                     |\n",
    "|       | Flatten             | -             | -              | -                   |\n",
    "| 4     | Fully-Connected     | 64            | -              | ReLU                |\n",
    "| 5     | Fully-Connected     | 10            |                | Softmax             |\n",
    "\n",
    "In our second architecture, we used drop out as a way of reducing overfitting.\n",
    "\n",
    "| Layer | Layer type          | #Filters      | Kernel details  | Activation function |\n",
    "|-------|---------------------|---------------|-----------------|---------------------|\n",
    "| 1     | Conv2D              | 32            | F=5, p=2, s=1   | ReLU                |\n",
    "| 1     | MaxPool2D           | -             | F=2,s=2         | -                   |\n",
    "|       | Batch normalization | -             | -               | -                   |\n",
    "| 2     | Conv2D              | 64            | F=5, p=2, s=1   | ReLU                |\n",
    "| 2     | MaxPool2D           | -             | F=2,s=2         | -                   |\n",
    "|       | Batch normalization | -             | -               | -                   |\n",
    "| 3     | Conv2D              | 128           | F=5, p=2, s=1   | ReLU                |\n",
    "| 3     | MaxPool2D           | -             | F=2,s=2         | -                   |\n",
    "|       | Batch normalization | -             | -               | -                   |\n",
    "|       |                     | #Hidden units | Dropout details |                     |\n",
    "|       | Flatten             | -             | -               | -                   |\n",
    "| 4     | Fully-Connected     | 64            | p=0.4           | ReLU                |\n",
    "| 5     | Fully-Connected     | 10            | p=0.4           | Softmax             |\n",
    "\n",
    "\n",
    "drop_out 1: \n",
    "Adam (lr=1e-3, weight_decay=1e-4)\n",
    "nodes=[32,64,256]\n",
    "dropout=0.4\n",
    "\n",
    "\n",
    "drop_out 2: \n",
    "Adam (lr=1e-3, amsgrad=True, weight_decay=1e-3)\n",
    "nodes=[32,64,256]\n",
    "dropout=0.4\n",
    "\n",
    "### Task 3b)\n",
    "Include final accuracy scores and plot for two models\n",
    "\n",
    "First architecture:\n",
    "| Final train loss   | Training accuracy  | Validation accuracy | Test accuracy      |\n",
    "|--------------------|--------------------|---------------------|--------------------|\n",
    "| 0.1665413975715637 | 0.9440566897392273 | 0.7961999773979187  | 0.7798999547958374 |\n",
    "\n",
    "### Task 3c)\n",
    "Fill in answer\n",
    "\n",
    "\n",
    "### Task 3d)\n",
    "Include plot\n",
    "\n",
    "### Task 3e)\n",
    "Include plot\n",
    "\n",
    "### Task 3f)\n",
    "Fill in answer\n"
   ]
  },
  {
   "cell_type": "markdown",
   "metadata": {},
   "source": [
    "\n",
    "\\begin{tabular}{c|c|c|c|c}\n",
    "    Layer &  Layer Type & \\# Filters & Kernel details & Activation Function \\\\ \\hline\n",
    "    1 & Conv2D & 32 & $F = 5, p=2, s=1$ & ReLU \n",
    "    \\\\ \n",
    "    1 & MaxPool2d & - & $F=4, s=2$ & -\\\\\n",
    "    & Batch normalization & - & - &  -\\\\ \n",
    "\n",
    "    2 & Conv2D & 64 & $F = 5, p=2, s=1$ & ReLU \\\\ \n",
    "    2 & MaxPool2D & - & $F=3, s=2$ & -\\\\ \n",
    "    & Batch normalization & - & - &  -\\\\ \n",
    "    3 & Conv2D & 128 & $F = 5, p=2, s=1$ & ReLU \\\\ \n",
    "    3 & MaxPool2D & - & $F=2, s=2$ & -\\\\ \n",
    "    & Batch normalization & - & - &  -\\\\ \\hline\n",
    "& & \\# Hidden units & Details (dropout)& \\\\ \\hline\n",
    "    & Flatten & - & - &  -\\\\ \n",
    "    4 & Fully-Connected & 64 & $p=0.4$ & ReLU \\\\ \n",
    "5 & Fully-Connected & 10 & $p=0.4$ & Softmax\n",
    "    \\caption{First network architecture.}\n",
    "    \\label{tab:firstN}\n",
    "\\end{tabular}"
   ]
  },
  {
   "cell_type": "markdown",
   "metadata": {},
   "source": [
    "# Task 4"
   ]
  },
  {
   "cell_type": "markdown",
   "metadata": {},
   "source": [
    "## Task 4a)\n",
    "\n",
    "FILL IN ANSWER and plot \n",
    "\n",
    "## Task 4b)\n",
    "Visualize filters \n",
    "\n",
    "\n",
    "## Task 4c)\n",
    "FILL IN ANSWER. \n",
    "\n"
   ]
  },
  {
   "cell_type": "code",
   "execution_count": null,
   "metadata": {},
   "outputs": [],
   "source": []
  }
 ],
 "metadata": {
  "kernelspec": {
   "display_name": "Python 3.8.1 64-bit ('py38': conda)",
   "language": "python",
   "name": "python38164bitpy38condac1f68ca5407a4349b0d7e37676f2fbb3"
  },
  "language_info": {
   "codemirror_mode": {
    "name": "ipython",
    "version": 3
   },
   "file_extension": ".py",
   "mimetype": "text/x-python",
   "name": "python",
   "nbconvert_exporter": "python",
   "pygments_lexer": "ipython3",
   "version": "3.8.1"
  }
 },
 "nbformat": 4,
 "nbformat_minor": 4
}
